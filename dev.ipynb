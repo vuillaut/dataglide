{
 "cells": [
  {
   "cell_type": "markdown",
   "metadata": {},
   "source": [
    "# Load and display IGC files"
   ]
  },
  {
   "cell_type": "code",
   "execution_count": 1,
   "metadata": {},
   "outputs": [],
   "source": [
    "import numpy as np\n",
    "import matplotlib.pyplot as plt\n",
    "import gmplot\n",
    "import time\n",
    "import os"
   ]
  },
  {
   "cell_type": "code",
   "execution_count": 2,
   "metadata": {},
   "outputs": [],
   "source": [
    "import igc"
   ]
  },
  {
   "cell_type": "code",
   "execution_count": 3,
   "metadata": {},
   "outputs": [
    {
     "name": "stdout",
     "output_type": "stream",
     "text": [
      "2013-04-07-igcfile-23426-32487.igc    2017-08-12-igcfile-28043-118045.igc\r\n",
      "2014-07-08-igcfile-47462-52467.igc    2017-09-24-igcfile-18012-119698.igc\r\n",
      "2017-05-16-igcfile-136850-107808.igc\r\n"
     ]
    }
   ],
   "source": [
    "ls parapente_traces_dataset/"
   ]
  },
  {
   "cell_type": "code",
   "execution_count": 4,
   "metadata": {},
   "outputs": [],
   "source": [
    "f1 = open(\"parapente_traces_dataset/2014-07-08-igcfile-47462-52467.igc\", \"r\")"
   ]
  },
  {
   "cell_type": "code",
   "execution_count": 5,
   "metadata": {},
   "outputs": [],
   "source": [
    "data = f1.read().splitlines()"
   ]
  },
  {
   "cell_type": "code",
   "execution_count": 6,
   "metadata": {},
   "outputs": [
    {
     "data": {
      "text/plain": [
       "['AXGD100 Flymaster F1, V1.3, S/N 236',\n",
       " 'HURL:https://parapente.ffvl.fr/cfd/liste/2013/vol/20149865',\n",
       " 'HFDTE080714',\n",
       " 'HOPLTPILOT: combes',\n",
       " 'HOGTYGLIDERTYPE: cayenne 4',\n",
       " 'HOGIDGLIDERID: None',\n",
       " 'HODTM100GPSDATUM: WGS-84',\n",
       " 'HOCIDCOMPETITIONID: ',\n",
       " 'HOCCLCOMPETITION CLASS: None',\n",
       " 'HOSITSite: None',\n",
       " 'B0715242111989S05538785EA0216502318',\n",
       " 'B0715252111989S05538787EA0216502318',\n",
       " 'B0715262111988S05538790EA0216502318',\n",
       " 'B0715272111988S05538792EA0216602320',\n",
       " 'B0715282111991S05538788EA0216502321']"
      ]
     },
     "execution_count": 6,
     "metadata": {},
     "output_type": "execute_result"
    }
   ],
   "source": [
    "data[0:15]"
   ]
  },
  {
   "cell_type": "code",
   "execution_count": 7,
   "metadata": {},
   "outputs": [
    {
     "data": {
      "text/plain": [
       "{'alt_gps': 2307.0,\n",
       " 'alt_p': 2148.0,\n",
       " 'lat': -21.200383333333335,\n",
       " 'long': 55.64516666666667,\n",
       " 'time': time.struct_time(tm_year=1900, tm_mon=1, tm_mday=1, tm_hour=7, tm_min=15, tm_sec=54, tm_wday=0, tm_yday=1, tm_isdst=-1)}"
      ]
     },
     "execution_count": 7,
     "metadata": {},
     "output_type": "execute_result"
    }
   ],
   "source": [
    "d40 = igc.read_igc_B(data[40])\n",
    "d40"
   ]
  },
  {
   "cell_type": "code",
   "execution_count": 8,
   "metadata": {},
   "outputs": [],
   "source": [
    "igc1 = igc.igc_trace()\n",
    "igc1.read_igc_file(\"parapente_traces_dataset/2014-07-08-igcfile-47462-52467.igc\")"
   ]
  },
  {
   "cell_type": "code",
   "execution_count": 9,
   "metadata": {},
   "outputs": [
    {
     "data": {
      "text/plain": [
       "[<matplotlib.lines.Line2D at 0x10e091438>]"
      ]
     },
     "execution_count": 9,
     "metadata": {},
     "output_type": "execute_result"
    },
    {
     "data": {
      "image/png": "[encoded data removed]",
      "text/plain": [
       "<matplotlib.figure.Figure at 0x10be82940>"
      ]
     },
     "metadata": {},
     "output_type": "display_data"
    }
   ],
   "source": [
    "plt.plot(igc1.trace['altitudes_gps'])"
   ]
  },
  {
   "cell_type": "code",
   "execution_count": null,
   "metadata": {},
   "outputs": [],
   "source": []
  },
  {
   "cell_type": "markdown",
   "metadata": {},
   "source": [
    "## Make one trace with heatmap"
   ]
  },
  {
   "cell_type": "code",
   "execution_count": 10,
   "metadata": {},
   "outputs": [],
   "source": [
    "start = [igc1.trace['latitudes'][0], igc1.trace['longitudes'][0]]\n",
    "stop = [igc1.trace['latitudes'][-1], igc1.trace['longitudes'][-1]]\n",
    "\n",
    "gmap = gmplot.GoogleMapPlotter(start[0], start[1], 16)\n",
    "gmap.plot(igc1.trace['latitudes'], igc1.trace['longitudes'], 'cornflowerblue', edge_width=3, c='red')\n",
    "# gmap.scatter(more_lats, more_lngs, '#3B0B39', size=40, marker=False)\n",
    "gmap.scatter([start[0], stop[0]], [start[-1], stop[-1]], 'k', marker=True)\n",
    "gmap.heatmap(igc1.trace['latitudes'], igc1.trace['longitudes'])\n",
    "\n",
    "gmap.draw(\"trace.html\")"
   ]
  },
  {
   "cell_type": "code",
   "execution_count": null,
   "metadata": {},
   "outputs": [],
   "source": []
  },
  {
   "cell_type": "markdown",
   "metadata": {},
   "source": [
    "## Heatmap"
   ]
  },
  {
   "cell_type": "code",
   "execution_count": 11,
   "metadata": {},
   "outputs": [
    {
     "name": "stdout",
     "output_type": "stream",
     "text": [
      "parapente_traces_dataset/2017-09-24-igcfile-18012-119698.igc\n",
      "parapente_traces_dataset/2013-04-07-igcfile-23426-32487.igc\n",
      "parapente_traces_dataset/2014-07-08-igcfile-47462-52467.igc\n",
      "parapente_traces_dataset/2017-08-12-igcfile-28043-118045.igc\n",
      "parapente_traces_dataset/2017-05-16-igcfile-136850-107808.igc\n"
     ]
    }
   ],
   "source": [
    "src = 'parapente_traces_dataset/'\n",
    "lat_heat = []\n",
    "long_heat = []\n",
    "for file in [src + f for f in os.listdir(src) if f.endswith('igc')]:\n",
    "    print(file)\n",
    "    igcf = igc.igc_trace()\n",
    "    igcf.read_igc_file(file)\n",
    "    lat_heat.append(igcf.trace['latitudes'])\n",
    "    long_heat.append(igcf.trace['longitudes'])\n",
    "\n",
    "lat_heat = np.concatenate(lat_heat)\n",
    "long_heat = np.concatenate(long_heat)\n",
    "gmap = gmplot.GoogleMapPlotter(lat_heat[0], long_heat[0], 16)\n",
    "\n",
    "gmap.heatmap(lat_heat, long_heat)"
   ]
  },
  {
   "cell_type": "code",
   "execution_count": 13,
   "metadata": {},
   "outputs": [],
   "source": [
    "gmap.draw(\"heatmap.html\")"
   ]
  },
  {
   "cell_type": "code",
   "execution_count": null,
   "metadata": {},
   "outputs": [],
   "source": []
  }
 ],
 "metadata": {
  "kernelspec": {
   "display_name": "Python 3",
   "language": "python",
   "name": "python3"
  },
  "language_info": {
   "codemirror_mode": {
    "name": "ipython",
    "version": 3
   },
   "file_extension": ".py",
   "mimetype": "text/x-python",
   "name": "python",
   "nbconvert_exporter": "python",
   "pygments_lexer": "ipython3",
   "version": "3.6.4"
  }
 },
 "nbformat": 4,
 "nbformat_minor": 2
}
