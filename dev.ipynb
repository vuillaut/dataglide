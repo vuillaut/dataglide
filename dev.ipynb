{
 "cells": [
  {
   "cell_type": "markdown",
   "metadata": {},
   "source": [
    "# Load and display IGC files"
   ]
  },
  {
   "cell_type": "code",
   "execution_count": 1,
   "metadata": {},
   "outputs": [],
   "source": [
    "import numpy as np\n",
    "import matplotlib.pyplot as plt\n",
    "import gmplot\n",
    "import time\n",
    "import os"
   ]
  },
  {
   "cell_type": "code",
   "execution_count": 78,
   "metadata": {},
   "outputs": [
    {
     "data": {
      "text/plain": [
       "<module 'igc' from '/Users/thomasvuillaume/Work/dataglide/igc.py'>"
      ]
     },
     "execution_count": 78,
     "metadata": {},
     "output_type": "execute_result"
    }
   ],
   "source": [
    "import igc\n",
    "from importlib import reload\n",
    "reload(igc)"
   ]
  },
  {
   "cell_type": "code",
   "execution_count": 3,
   "metadata": {},
   "outputs": [
    {
     "name": "stdout",
     "output_type": "stream",
     "text": [
      "2013-04-07-igcfile-23426-32487.igc    2017-12-28-igcfile-17566-139493.igc\r\n",
      "2014-07-08-igcfile-47462-52467.igc    2017-12-28-igcfile-227980-139492.igc\r\n",
      "2017-05-16-igcfile-136850-107808.igc  2017-12-28-igcfile-23273-139494.igc\r\n",
      "2017-08-12-igcfile-28043-118045.igc   2017-12-30-igcfile-232908-139727.igc\r\n",
      "2017-09-24-igcfile-18012-119698.igc   2018-01-01-igcfile-232908-139729.igc\r\n",
      "2017-12-25-igcfile-64071-139472.igc   \u001b[34mtest\u001b[m\u001b[m/\r\n",
      "2017-12-28-igcfile-142999-139491.igc\r\n"
     ]
    }
   ],
   "source": [
    "ls parapente_traces_dataset/"
   ]
  },
  {
   "cell_type": "code",
   "execution_count": 4,
   "metadata": {},
   "outputs": [],
   "source": [
    "f1 = open(\"parapente_traces_dataset/2014-07-08-igcfile-47462-52467.igc\", \"r\")"
   ]
  },
  {
   "cell_type": "code",
   "execution_count": 68,
   "metadata": {},
   "outputs": [],
   "source": [
    "f2 = open(\"parapente_traces_dataset/2017-09-28-igcfile-96708-124459.igc\", \"r\")"
   ]
  },
  {
   "cell_type": "code",
   "execution_count": 69,
   "metadata": {},
   "outputs": [],
   "source": [
    "data = f2.read().splitlines()"
   ]
  },
  {
   "cell_type": "code",
   "execution_count": 70,
   "metadata": {},
   "outputs": [
    {
     "data": {
      "text/plain": [
       "['AXSX001 SKYTRAXX V1.64 SN:2507616560',\n",
       " 'HOPLTPILOT: Julien BURN0D ',\n",
       " 'HOGTYGLIDERTYPE: ALPINA 2',\n",
       " 'HOCIDCOMPETITIONID: 0000',\n",
       " 'HODTM100GPSDATUM: WGS-84',\n",
       " 'HOCCLCOMPETITION CLASS: EN-C',\n",
       " 'HPSITSITE: Chalvet, St Andre Les Alpes',\n",
       " 'HFDTE280917',\n",
       " 'B1036594358721N00628766EA0136901514',\n",
       " 'B1037004358718N00628764EA0136901516',\n",
       " 'B1037014358717N00628762EA0136801516',\n",
       " 'B1037024358718N00628759EA0136901515',\n",
       " 'B1037034358720N00628757EA0137101516',\n",
       " 'B1037044358721N00628754EA0137301518',\n",
       " 'B1037054358722N00628751EA0137501520']"
      ]
     },
     "execution_count": 70,
     "metadata": {},
     "output_type": "execute_result"
    }
   ],
   "source": [
    "data[0:15]"
   ]
  },
  {
   "cell_type": "code",
   "execution_count": 72,
   "metadata": {},
   "outputs": [
    {
     "data": {
      "text/plain": [
       "{'alt_gps': 1569.0,\n",
       " 'alt_p': 1422.0,\n",
       " 'lat': 43.97895,\n",
       " 'long': 6.479516666666667,\n",
       " 'time': time.struct_time(tm_year=1900, tm_mon=1, tm_mday=1, tm_hour=10, tm_min=37, tm_sec=31, tm_wday=0, tm_yday=1, tm_isdst=-1)}"
      ]
     },
     "execution_count": 72,
     "metadata": {},
     "output_type": "execute_result"
    }
   ],
   "source": [
    "d40 = igc.read_igc_B(data[40])\n",
    "d40"
   ]
  },
  {
   "cell_type": "code",
   "execution_count": 73,
   "metadata": {},
   "outputs": [
    {
     "data": {
      "text/plain": [
       "1422.0"
      ]
     },
     "execution_count": 73,
     "metadata": {},
     "output_type": "execute_result"
    }
   ],
   "source": [
    "d40['alt_p']"
   ]
  },
  {
   "cell_type": "code",
   "execution_count": 8,
   "metadata": {},
   "outputs": [],
   "source": [
    "igc1 = igc.igc_trace()\n",
    "igc1.read_igc_file(\"parapente_traces_dataset/2014-07-08-igcfile-47462-52467.igc\")"
   ]
  },
  {
   "cell_type": "code",
   "execution_count": 9,
   "metadata": {},
   "outputs": [
    {
     "data": {
      "text/plain": [
       "[<matplotlib.lines.Line2D at 0x10fc77320>]"
      ]
     },
     "execution_count": 9,
     "metadata": {},
     "output_type": "execute_result"
    },
    {
     "data": {
      "image/png": "[encoded data removed]",
      "text/plain": [
       "<matplotlib.figure.Figure at 0x10ce5d1d0>"
      ]
     },
     "metadata": {},
     "output_type": "display_data"
    }
   ],
   "source": [
    "plt.plot(igc1.trace['altitudes_gps'])"
   ]
  },
  {
   "cell_type": "code",
   "execution_count": null,
   "metadata": {},
   "outputs": [],
   "source": []
  },
  {
   "cell_type": "markdown",
   "metadata": {},
   "source": [
    "## Make one trace with heatmap"
   ]
  },
  {
   "cell_type": "code",
   "execution_count": 10,
   "metadata": {},
   "outputs": [],
   "source": [
    "start = [igc1.trace['latitudes'][0], igc1.trace['longitudes'][0]]\n",
    "stop = [igc1.trace['latitudes'][-1], igc1.trace['longitudes'][-1]]\n",
    "\n",
    "gmap = gmplot.GoogleMapPlotter(start[0], start[1], 16)\n",
    "gmap.plot(igc1.trace['latitudes'], igc1.trace['longitudes'], 'cornflowerblue', edge_width=3, c='red')\n",
    "# gmap.scatter(more_lats, more_lngs, '#3B0B39', size=40, marker=False)\n",
    "gmap.scatter([start[0], stop[0]], [start[-1], stop[-1]], 'k', marker=True)\n",
    "gmap.heatmap(igc1.trace['latitudes'], igc1.trace['longitudes'])\n",
    "\n",
    "gmap.draw(\"trace.html\")"
   ]
  },
  {
   "cell_type": "code",
   "execution_count": null,
   "metadata": {},
   "outputs": [],
   "source": []
  },
  {
   "cell_type": "markdown",
   "metadata": {},
   "source": [
    "## Heatmap"
   ]
  },
  {
   "cell_type": "code",
   "execution_count": null,
   "metadata": {},
   "outputs": [],
   "source": []
  },
  {
   "cell_type": "code",
   "execution_count": 79,
   "metadata": {},
   "outputs": [
    {
     "name": "stdout",
     "output_type": "stream",
     "text": [
      "parapente_traces_dataset/2017-12-03-igcfile-213761-139167.igc\n",
      "parapente_traces_dataset/2017-12-03-igcfile-308985-139166.igc\n",
      "parapente_traces_dataset/2017-11-27-igcfile-344779-139187.igc\n",
      "parapente_traces_dataset/2017-09-20-igcfile-293856-119324.igc\n",
      "parapente_traces_dataset/2018-01-01-igcfile-232908-139729.igc\n",
      "parapente_traces_dataset/2017-12-02-igcfile-50178-139108.igc\n",
      "parapente_traces_dataset/2017-10-06-igcfile-5706-120810.igc\n",
      "parapente_traces_dataset/2017-12-01-igcfile-276534-139104.igc\n",
      "parapente_traces_dataset/2017-09-20-igcfile-3375-120101.igc\n",
      "parapente_traces_dataset/2017-10-04-igcfile-10891-120337.igc\n",
      "parapente_traces_dataset/2017-09-29-igcfile-16038-120011.igc\n",
      "parapente_traces_dataset/2017-12-17-igcfile-145099-139335.igc\n",
      "parapente_traces_dataset/2017-09-10-igcfile-202099-119028.igc\n",
      "parapente_traces_dataset/2017-09-28-igcfile-96708-124459.igc\n",
      "parapente_traces_dataset/2017-12-28-igcfile-142999-139491.igc\n",
      "parapente_traces_dataset/2017-09-29-igcfile-14751-120010.igc\n",
      "parapente_traces_dataset/2017-09-29-igcfile-8430-120057.igc\n",
      "parapente_traces_dataset/2017-11-01-igcfile-171196-138535.igc\n",
      "parapente_traces_dataset/2017-10-23-igcfile-1994-134211.igc\n",
      "parapente_traces_dataset/2017-10-14-igcfile-8865-129232.igc\n",
      "parapente_traces_dataset/2017-09-16-igcfile-296974-119133.igc\n",
      "parapente_traces_dataset/2017-12-03-igcfile-235223-139242.igc\n",
      "parapente_traces_dataset/2017-09-17-igcfile-149879-119173.igc\n",
      "parapente_traces_dataset/2017-09-08-igcfile-149193-118905.igc\n",
      "parapente_traces_dataset/2017-10-29-igcfile-1471-135970.igc\n",
      "parapente_traces_dataset/2017-12-30-igcfile-232908-139727.igc\n",
      "parapente_traces_dataset/2017-09-29-igcfile-229043-120108.igc\n",
      "parapente_traces_dataset/2017-09-24-igcfile-18012-119698.igc\n",
      "parapente_traces_dataset/2017-09-28-igcfile-229043-120106.igc\n",
      "parapente_traces_dataset/2017-09-04-igcfile-338708-118958.igc\n",
      "parapente_traces_dataset/2017-10-14-igcfile-1432-129169.igc\n",
      "parapente_traces_dataset/2017-09-04-igcfile-8787-118642.igc\n",
      "parapente_traces_dataset/2017-09-16-igcfile-177446-119151.igc\n",
      "parapente_traces_dataset/2017-09-19-igcfile-213761-119213.igc\n",
      "parapente_traces_dataset/2017-09-08-igcfile-202139-118962.igc\n",
      "parapente_traces_dataset/2017-09-18-igcfile-22910-119200.igc\n",
      "parapente_traces_dataset/2017-10-10-igcfile-223915-124462.igc\n",
      "parapente_traces_dataset/2017-10-13-igcfile-119780-128791.igc\n",
      "parapente_traces_dataset/2017-09-20-igcfile-208879-120100.igc\n",
      "parapente_traces_dataset/2017-09-16-igcfile-10545-119163.igc\n",
      "parapente_traces_dataset/2017-11-27-igcfile-319175-139198.igc\n",
      "parapente_traces_dataset/2013-04-07-igcfile-23426-32487.igc\n",
      "parapente_traces_dataset/2017-09-23-igcfile-115447-119464.igc\n",
      "parapente_traces_dataset/2017-12-16-igcfile-331544-139336.igc\n",
      "parapente_traces_dataset/2017-12-28-igcfile-227980-139492.igc\n",
      "parapente_traces_dataset/2017-12-28-igcfile-17566-139493.igc\n",
      "parapente_traces_dataset/2017-10-09-igcfile-59452-123323.igc\n",
      "parapente_traces_dataset/2017-11-19-igcfile-5540-139026.igc\n",
      "parapente_traces_dataset/2017-10-15-igcfile-6813-130451.igc\n",
      "parapente_traces_dataset/2017-10-20-igcfile-21195-133919.igc\n",
      "parapente_traces_dataset/2017-09-15-igcfile-145180-119215.igc\n",
      "parapente_traces_dataset/2017-10-14-igcfile-195928-129234.igc\n",
      "parapente_traces_dataset/2017-09-24-igcfile-147437-119625.igc\n",
      "parapente_traces_dataset/2017-09-23-igcfile-213279-119461.igc\n",
      "parapente_traces_dataset/2017-09-04-igcfile-11019-118624.igc\n",
      "parapente_traces_dataset/2017-12-28-igcfile-23273-139494.igc\n",
      "parapente_traces_dataset/2017-09-23-igcfile-59342-119463.igc\n",
      "parapente_traces_dataset/2017-12-13-igcfile-186055-139310.igc\n",
      "parapente_traces_dataset/2017-09-26-igcfile-127283-119756.igc\n",
      "parapente_traces_dataset/2017-09-29-igcfile-221191-120006.igc\n",
      "parapente_traces_dataset/2017-10-17-igcfile-301098-139219.igc\n",
      "parapente_traces_dataset/2017-09-29-igcfile-289322-120007.igc\n",
      "parapente_traces_dataset/2017-09-04-igcfile-326704-118623.igc\n",
      "parapente_traces_dataset/2014-07-08-igcfile-47462-52467.igc\n",
      "parapente_traces_dataset/2017-09-16-igcfile-141449-119181.igc\n",
      "parapente_traces_dataset/2017-09-16-igcfile-257252-119154.igc\n",
      "parapente_traces_dataset/2017-11-29-igcfile-95927-139105.igc\n",
      "parapente_traces_dataset/2017-11-21-igcfile-143169-138847.igc\n",
      "parapente_traces_dataset/2017-10-10-igcfile-12883-124495.igc\n",
      "parapente_traces_dataset/2017-09-23-igcfile-34398-120104.igc\n",
      "parapente_traces_dataset/2017-09-16-igcfile-272793-119207.igc\n",
      "parapente_traces_dataset/2017-08-12-igcfile-28043-118045.igc\n",
      "parapente_traces_dataset/2017-09-29-igcfile-228874-120110.igc\n",
      "parapente_traces_dataset/2017-09-08-igcfile-268779-118912.igc\n",
      "parapente_traces_dataset/2017-09-10-igcfile-43264-118961.igc\n",
      "parapente_traces_dataset/2017-10-27-igcfile-23273-135436.igc\n",
      "parapente_traces_dataset/2017-10-04-igcfile-194965-120338.igc\n",
      "parapente_traces_dataset/2017-10-05-igcfile-197351-120365.igc\n",
      "parapente_traces_dataset/2017-09-10-igcfile-332518-119012.igc\n",
      "parapente_traces_dataset/2017-10-13-igcfile-253750-129233.igc\n",
      "parapente_traces_dataset/2017-09-19-igcfile-9854-119214.igc\n",
      "parapente_traces_dataset/2017-10-16-igcfile-142689-131243.igc\n",
      "parapente_traces_dataset/2017-10-29-igcfile-64071-135971.igc\n",
      "parapente_traces_dataset/2017-12-17-igcfile-66346-139372.igc\n",
      "parapente_traces_dataset/2017-10-04-igcfile-235863-120333.igc\n",
      "parapente_traces_dataset/2017-12-25-igcfile-64071-139472.igc\n",
      "parapente_traces_dataset/2017-11-23-igcfile-239011-138850.igc\n",
      "parapente_traces_dataset/2017-09-23-igcfile-173321-119519.igc\n",
      "parapente_traces_dataset/2017-11-30-igcfile-95927-139080.igc\n",
      "parapente_traces_dataset/2017-10-05-igcfile-62927-120386.igc\n",
      "parapente_traces_dataset/2017-09-27-igcfile-161351-123363.igc\n",
      "parapente_traces_dataset/2017-09-03-igcfile-191646-118546.igc\n",
      "parapente_traces_dataset/2017-09-16-igcfile-338897-119172.igc\n",
      "parapente_traces_dataset/2017-11-24-igcfile-204891-138883.igc\n",
      "parapente_traces_dataset/2017-12-02-igcfile-6672-139128.igc\n",
      "parapente_traces_dataset/2017-10-09-igcfile-76781-123316.igc\n",
      "parapente_traces_dataset/2017-12-17-igcfile-314592-139364.igc\n",
      "parapente_traces_dataset/2017-10-14-igcfile-89835-129235.igc\n",
      "parapente_traces_dataset/2017-09-21-igcfile-8430-119326.igc\n",
      "parapente_traces_dataset/2017-10-10-igcfile-313671-128323.igc\n",
      "parapente_traces_dataset/2017-09-03-igcfile-13347-118547.igc\n",
      "parapente_traces_dataset/2017-05-16-igcfile-136850-107808.igc\n",
      "parapente_traces_dataset/2017-11-28-igcfile-252842-139083.igc\n",
      "parapente_traces_dataset/2017-11-29-igcfile-78860-139068.igc\n",
      "parapente_traces_dataset/2017-09-29-igcfile-95374-120013.igc\n",
      "parapente_traces_dataset/2017-12-21-igcfile-270367-139471.igc\n"
     ]
    }
   ],
   "source": [
    "src = 'parapente_traces_dataset/'\n",
    "lat_heat = []\n",
    "long_heat = []\n",
    "for file in [src + f for f in os.listdir(src) if f.endswith('igc')]:\n",
    "    print(file)\n",
    "    igcf = igc.igc_trace()\n",
    "    igcf.read_igc_file(file)\n",
    "    lat_heat.append(igcf.trace['latitudes'])\n",
    "    long_heat.append(igcf.trace['longitudes'])\n",
    "\n",
    "lat_heat = np.concatenate(lat_heat)\n",
    "long_heat = np.concatenate(long_heat)\n",
    "gmap = gmplot.GoogleMapPlotter(lat_heat[0], long_heat[0], 16)\n",
    "\n",
    "gmap.heatmap(lat_heat, long_heat)"
   ]
  },
  {
   "cell_type": "code",
   "execution_count": 80,
   "metadata": {},
   "outputs": [],
   "source": [
    "gmap.draw(\"heatmap.html\")"
   ]
  },
  {
   "cell_type": "code",
   "execution_count": null,
   "metadata": {},
   "outputs": [],
   "source": []
  },
  {
   "cell_type": "code",
   "execution_count": null,
   "metadata": {},
   "outputs": [],
   "source": []
  },
  {
   "cell_type": "code",
   "execution_count": null,
   "metadata": {},
   "outputs": [],
   "source": []
  },
  {
   "cell_type": "code",
   "execution_count": null,
   "metadata": {},
   "outputs": [],
   "source": []
  },
  {
   "cell_type": "code",
   "execution_count": null,
   "metadata": {},
   "outputs": [],
   "source": []
  },
  {
   "cell_type": "code",
   "execution_count": null,
   "metadata": {},
   "outputs": [],
   "source": []
  },
  {
   "cell_type": "code",
   "execution_count": null,
   "metadata": {},
   "outputs": [],
   "source": []
  },
  {
   "cell_type": "code",
   "execution_count": null,
   "metadata": {},
   "outputs": [],
   "source": []
  },
  {
   "cell_type": "code",
   "execution_count": 13,
   "metadata": {},
   "outputs": [],
   "source": [
    "import requests\n",
    "from bs4 import BeautifulSoup\n",
    "'''\n",
    "URL of the archive web-page which provides link to\n",
    "all video lectures. It would have been tiring to\n",
    "download each video manually.\n",
    "In this example, we first crawl the webpage to extract\n",
    "all the links and then download videos.\n",
    "'''\n",
    " \n",
    "# specify the URL of the archive here\n",
    "archive_url = \"http://www-personal.umich.edu/~csev/books/py4inf/media/\"\n",
    " \n",
    "def get_video_links():\n",
    "    #create response object\n",
    "    r = requests.get(archive_url)\n",
    "    #create beautiful-soup object\n",
    "    soup = BeautifulSoup(r.content,'html5lib')\n",
    "    #find all links on web-page\n",
    "    links = soup.findAll('a')\n",
    "    #filter the link sending with .mp4\n",
    "    video_links = [archive_url + link['href'] for link in links if link['href'].endswith('mp4')]\n",
    " \n",
    "    return video_links"
   ]
  },
  {
   "cell_type": "code",
   "execution_count": 63,
   "metadata": {},
   "outputs": [],
   "source": [
    "flight_url = \"https://parapente.ffvl.fr/cfd/liste/2011/vol/20110440\"\n",
    "req_url = \"https://parapente.ffvl.fr/cfd/selectionner-les-vols?requete_filtre=eNqlUctqwlAQ_ZUyq7rzgQYnuBCt4CYr6TYMZmIv3MSQTIIg-SC_wx_r3BBDeym01N08zzlzhnCKV4OzkHCB1wrnCKlhm0BYaQESLqI6c4k2xIhlF0-mCNv7raBSOONcXC1AOBdcUt6t6sBqNZTFnPMKlGLuKAIHm1Jtu70xQge5RKjY8lHiouRKQcltfZlQNR_UmPwEocFxr6LHjlNLihZ5hFHYPsY6ZXFO2XAAn8i-vApfhEf9gQ3Zmnv5ywDC1qiun5yZzBA2u-0uXm8O-_f94c13SK9ZH8U0Ru63Z9xRHHWZCvWDf7Fp8ej80Sxyn-9UJ2yF-guG2Gf-nre-9mew_vkkH-UTHUPkSw\"\n",
    "\n",
    "def get_flight_links(url):\n",
    "    #create response object\n",
    "    r = requests.get(url)\n",
    "    #create beautiful-soup object\n",
    "    soup = BeautifulSoup(r.content,'html5lib')\n",
    "    #find all links on web-page\n",
    "    links = soup.findAll('a')\n",
    "    #filter the link sending with .mp4\n",
    "    flight_links = [link['href'] for link in links if '/vol/' in link['href']]\n",
    " \n",
    "    return flight_links\n",
    "\n",
    "def get_igc_links(flight_url):\n",
    "    print(flight_url)\n",
    "    #create response object\n",
    "    r = requests.get(flight_url)\n",
    "    #create beautiful-soup object\n",
    "    soup = BeautifulSoup(r.content,'html5lib')\n",
    "    #find all links on web-page\n",
    "    links = soup.findAll('a')\n",
    "    #filter the link sending with .mp4\n",
    "    igc_url = [link.get('href') for link in links if (link.get('href') and link.get('href').endswith('.igc'))]\n",
    "    if len(igc_url) > 0:\n",
    "        return igc_url[0]\n",
    "    \n",
    "def get_igc_url(igc_links, baseurl='https://parapente.ffvl.fr/sites/parapente.ffvl.fr/files/igcfiles/'):\n",
    "    igc_url = [baseurl + i.rsplit('/')[-1] for i in igc_links if type(i)==str and i.endswith('.igc')]\n",
    "    return igc_url\n",
    "\n",
    "def download_all_igc(url, output_dir='./'):\n",
    "    flight_links = get_flight_links(url)\n",
    "    igc_links = []\n",
    "    for fl in np.unique(flight_links):\n",
    "        igc_links.append(get_igc_links(fl))\n",
    "    \n",
    "    igc_url = get_igc_url(igc_links)\n",
    "    \n",
    "    for link in igc_url:\n",
    "        #obtain filename by splitting url and getting last string\n",
    "        file_name = link.split('/')[-1]   \n",
    "        print(\"Downloading file:%s\"%file_name)\n",
    "\n",
    "        #create response object\n",
    "        r = requests.get(link, stream = True)\n",
    "\n",
    "        #download started\n",
    "        with open(output_dir + file_name, 'wb') as f:\n",
    "            for chunk in r.iter_content(chunk_size = 1024*1024):\n",
    "                if chunk:\n",
    "                    f.write(chunk)\n",
    "\n",
    "        print(\"%s downloaded!\\n\"%file_name)\n",
    " "
   ]
  },
  {
   "cell_type": "code",
   "execution_count": 31,
   "metadata": {},
   "outputs": [
    {
     "data": {
      "text/plain": [
       "['https://parapente.ffvl.fr/cfd/liste/2003/vol/20030126',\n",
       " 'https://parapente.ffvl.fr/cfd/liste/2003/vol/20030126',\n",
       " 'https://parapente.ffvl.fr/cfd/liste/2011/vol/20110440',\n",
       " 'https://parapente.ffvl.fr/cfd/liste/2011/vol/20110440',\n",
       " 'https://parapente.ffvl.fr/cfd/liste/2013/vol/20149865',\n",
       " 'https://parapente.ffvl.fr/cfd/liste/2013/vol/20149865']"
      ]
     },
     "execution_count": 31,
     "metadata": {},
     "output_type": "execute_result"
    }
   ],
   "source": [
    "flight_links = get_flight_links(req_url)\n",
    "flight_links"
   ]
  },
  {
   "cell_type": "code",
   "execution_count": 16,
   "metadata": {},
   "outputs": [],
   "source": [
    "igc_url = []\n",
    "for fl in np.unique(flight_links):\n",
    "    igc_url.append(get_igc_links(fl))"
   ]
  },
  {
   "cell_type": "code",
   "execution_count": null,
   "metadata": {},
   "outputs": [],
   "source": []
  },
  {
   "cell_type": "code",
   "execution_count": 32,
   "metadata": {},
   "outputs": [],
   "source": [
    "req_url_12122017 = \"https://parapente.ffvl.fr/cfd/selectionner-les-vols?requete_filtre=eNrtlcFq20AQhl9F7Ck9lGgkS7bWpBCSBnLJJaFXs9hjZ2ErGWllCsEP1Ofoi3VGHk-o6tKQ5FR68upb7Y6-WfmXs7l98jadO1vap84W1qw9hpWZdxYyugh-8xjv0XVNzYzmo48BeVxac--8TEytabbYunpYSisvLhRH39SdoRIFlyC0wrXrQ-QbJtZkKeRDvcqaDgMu42LbYod1dLxSSh1m5OLR7Xy9MXN-8sODSpXFOrjIpbKUa9HudR_CsDuNz1y_7Otk7UNs8QMvh6qqaJIq8-hjlqYpY_49YB4xBsGgGBhngjPFGeNccK44ZzwRPFE8YVwILhQXjEvBpeKS8VTwVPGU8UzwTPGMcSW4UsyWIJaglsCWIJaglsCWIJaglsCWIJaglsCWIJaglsCWIJaglsCWIJaglsCWIJaglsCWQJb78Vv1_6j_2aPeH__cQ7IsavcVj8mEGxeSs4jfIh_vkEw7F3p8DhXad0_HfjLa0mO0XbuI42ADoIginqz6ZNeEk_H26WXxRnX-Em1yxwtC7W5U8G7-p_ZwtZ6gx75Nmj4ZeuXGXeImAJxDdv7crOpkt3Jrrm6ubxaXVw-3X24fPo8bRvUul9HvfPzx_S0fA9pn61q3pf7g-38RRGuFIR57oeNx5V-vf4-cN-z1ynd6vMtPOscauw\""
   ]
  },
  {
   "cell_type": "code",
   "execution_count": 33,
   "metadata": {},
   "outputs": [
    {
     "data": {
      "text/plain": [
       "array(['https://parapente.ffvl.fr/cfd/liste/2017/vol/20225421',\n",
       "       'https://parapente.ffvl.fr/cfd/liste/2017/vol/20225512',\n",
       "       'https://parapente.ffvl.fr/cfd/liste/2017/vol/20225513',\n",
       "       'https://parapente.ffvl.fr/cfd/liste/2017/vol/20225595',\n",
       "       'https://parapente.ffvl.fr/cfd/liste/2017/vol/20225596'],\n",
       "      dtype='<U53')"
      ]
     },
     "execution_count": 33,
     "metadata": {},
     "output_type": "execute_result"
    }
   ],
   "source": [
    "flight_links = get_flight_links(req_url_12122017)\n",
    "np.unique(flight_links)[:5]"
   ]
  },
  {
   "cell_type": "code",
   "execution_count": 34,
   "metadata": {},
   "outputs": [
    {
     "data": {
      "text/plain": [
       "100"
      ]
     },
     "execution_count": 34,
     "metadata": {},
     "output_type": "execute_result"
    }
   ],
   "source": [
    "len(np.unique(flight_links))"
   ]
  },
  {
   "cell_type": "code",
   "execution_count": 35,
   "metadata": {},
   "outputs": [
    {
     "data": {
      "text/plain": [
       "'https://parapente.ffvl.fr/cfd/liste/2017/vol/20229636'"
      ]
     },
     "execution_count": 35,
     "metadata": {},
     "output_type": "execute_result"
    }
   ],
   "source": [
    "np.unique(flight_links)[-1]"
   ]
  },
  {
   "cell_type": "code",
   "execution_count": null,
   "metadata": {},
   "outputs": [],
   "source": []
  },
  {
   "cell_type": "code",
   "execution_count": 36,
   "metadata": {},
   "outputs": [
    {
     "name": "stdout",
     "output_type": "stream",
     "text": [
      "Automatic pdb calling has been turned OFF\n"
     ]
    }
   ],
   "source": [
    "%pdb"
   ]
  },
  {
   "cell_type": "code",
   "execution_count": 64,
   "metadata": {},
   "outputs": [
    {
     "name": "stdout",
     "output_type": "stream",
     "text": [
      "https://parapente.ffvl.fr/cfd/liste/2017/vol/20225421\n",
      "https://parapente.ffvl.fr/cfd/liste/2017/vol/20225512\n",
      "https://parapente.ffvl.fr/cfd/liste/2017/vol/20225513\n",
      "https://parapente.ffvl.fr/cfd/liste/2017/vol/20225595\n",
      "https://parapente.ffvl.fr/cfd/liste/2017/vol/20225596\n",
      "https://parapente.ffvl.fr/cfd/liste/2017/vol/20225620\n",
      "https://parapente.ffvl.fr/cfd/liste/2017/vol/20225975\n",
      "https://parapente.ffvl.fr/cfd/liste/2017/vol/20225985\n",
      "https://parapente.ffvl.fr/cfd/liste/2017/vol/20226033\n",
      "https://parapente.ffvl.fr/cfd/liste/2017/vol/20226038\n",
      "https://parapente.ffvl.fr/cfd/liste/2017/vol/20226039\n",
      "https://parapente.ffvl.fr/cfd/liste/2017/vol/20226093\n",
      "https://parapente.ffvl.fr/cfd/liste/2017/vol/20226112\n",
      "https://parapente.ffvl.fr/cfd/liste/2017/vol/20226212\n",
      "https://parapente.ffvl.fr/cfd/liste/2017/vol/20226231\n",
      "https://parapente.ffvl.fr/cfd/liste/2017/vol/20226236\n",
      "https://parapente.ffvl.fr/cfd/liste/2017/vol/20226245\n",
      "https://parapente.ffvl.fr/cfd/liste/2017/vol/20226255\n",
      "https://parapente.ffvl.fr/cfd/liste/2017/vol/20226256\n",
      "https://parapente.ffvl.fr/cfd/liste/2017/vol/20226263\n",
      "https://parapente.ffvl.fr/cfd/liste/2017/vol/20226296\n",
      "https://parapente.ffvl.fr/cfd/liste/2017/vol/20226301\n",
      "https://parapente.ffvl.fr/cfd/liste/2017/vol/20226315\n",
      "https://parapente.ffvl.fr/cfd/liste/2017/vol/20226316\n",
      "https://parapente.ffvl.fr/cfd/liste/2017/vol/20226317\n",
      "https://parapente.ffvl.fr/cfd/liste/2017/vol/20226436\n",
      "https://parapente.ffvl.fr/cfd/liste/2017/vol/20226438\n",
      "https://parapente.ffvl.fr/cfd/liste/2017/vol/20226604\n",
      "https://parapente.ffvl.fr/cfd/liste/2017/vol/20226607\n",
      "https://parapente.ffvl.fr/cfd/liste/2017/vol/20226608\n"
     ]
    }
   ],
   "source": [
    "igc_links = [get_igc_links(fl) for fl in np.unique(flight_links)[:30]]"
   ]
  },
  {
   "cell_type": "code",
   "execution_count": 65,
   "metadata": {},
   "outputs": [
    {
     "data": {
      "text/plain": [
       "[None,\n",
       " '/sites/parapente.ffvl.fr/files/igcfiles/2017-09-03-igcfile-191646-118546.igc',\n",
       " '/sites/parapente.ffvl.fr/files/igcfiles/2017-09-03-igcfile-13347-118547.igc',\n",
       " '/sites/parapente.ffvl.fr/files/igcfiles/2017-09-04-igcfile-326704-118623.igc',\n",
       " '/sites/parapente.ffvl.fr/files/igcfiles/2017-09-04-igcfile-11019-118624.igc',\n",
       " '/sites/parapente.ffvl.fr/files/igcfiles/2017-09-04-igcfile-8787-118642.igc',\n",
       " '/sites/parapente.ffvl.fr/files/igcfiles/2017-09-08-igcfile-149193-118905.igc',\n",
       " '/sites/parapente.ffvl.fr/files/igcfiles/2017-09-08-igcfile-268779-118912.igc',\n",
       " '/sites/parapente.ffvl.fr/files/igcfiles/2017-09-04-igcfile-338708-118958.igc',\n",
       " '/sites/parapente.ffvl.fr/files/igcfiles/2017-09-10-igcfile-43264-118961.igc',\n",
       " '/sites/parapente.ffvl.fr/files/igcfiles/2017-09-08-igcfile-202139-118962.igc',\n",
       " '/sites/parapente.ffvl.fr/files/igcfiles/2017-09-10-igcfile-332518-119012.igc',\n",
       " '/sites/parapente.ffvl.fr/files/igcfiles/2017-09-10-igcfile-202099-119028.igc',\n",
       " '/sites/parapente.ffvl.fr/files/igcfiles/2017-09-16-igcfile-296974-119133.igc',\n",
       " '/sites/parapente.ffvl.fr/files/igcfiles/2017-09-16-igcfile-177446-119151.igc',\n",
       " '/sites/parapente.ffvl.fr/files/igcfiles/2017-09-16-igcfile-257252-119154.igc',\n",
       " '/sites/parapente.ffvl.fr/files/igcfiles/2017-09-16-igcfile-10545-119163.igc',\n",
       " '/sites/parapente.ffvl.fr/files/igcfiles/2017-09-16-igcfile-338897-119172.igc',\n",
       " '/sites/parapente.ffvl.fr/files/igcfiles/2017-09-17-igcfile-149879-119173.igc',\n",
       " '/sites/parapente.ffvl.fr/files/igcfiles/2017-09-16-igcfile-141449-119181.igc',\n",
       " '/sites/parapente.ffvl.fr/files/igcfiles/2017-09-18-igcfile-22910-119200.igc',\n",
       " '/sites/parapente.ffvl.fr/files/igcfiles/2017-09-16-igcfile-272793-119207.igc',\n",
       " '/sites/parapente.ffvl.fr/files/igcfiles/2017-09-19-igcfile-9854-119214.igc',\n",
       " '/sites/parapente.ffvl.fr/files/igcfiles/2017-09-19-igcfile-213761-119213.igc',\n",
       " '/sites/parapente.ffvl.fr/files/igcfiles/2017-09-15-igcfile-145180-119215.igc',\n",
       " '/sites/parapente.ffvl.fr/files/igcfiles/2017-09-20-igcfile-293856-119324.igc',\n",
       " '/sites/parapente.ffvl.fr/files/igcfiles/2017-09-21-igcfile-8430-119326.igc',\n",
       " '/sites/parapente.ffvl.fr/files/igcfiles/2017-09-23-igcfile-213279-119461.igc',\n",
       " '/sites/parapente.ffvl.fr/files/igcfiles/2017-09-23-igcfile-59342-119463.igc',\n",
       " '/sites/parapente.ffvl.fr/files/igcfiles/2017-09-23-igcfile-115447-119464.igc']"
      ]
     },
     "execution_count": 65,
     "metadata": {},
     "output_type": "execute_result"
    }
   ],
   "source": [
    "igc_links"
   ]
  },
  {
   "cell_type": "code",
   "execution_count": null,
   "metadata": {},
   "outputs": [],
   "source": [
    "get_igc_url(np.unique())"
   ]
  },
  {
   "cell_type": "code",
   "execution_count": null,
   "metadata": {},
   "outputs": [],
   "source": []
  },
  {
   "cell_type": "code",
   "execution_count": null,
   "metadata": {},
   "outputs": [],
   "source": []
  },
  {
   "cell_type": "code",
   "execution_count": 80,
   "metadata": {},
   "outputs": [],
   "source": [
    "from html.parser import HTMLParser  \n",
    "from urllib.request import urlopen  \n",
    "from urllib import parse\n",
    "\n",
    "# We are going to create a class called LinkParser that inherits some\n",
    "# methods from HTMLParser which is why it is passed into the definition\n",
    "class LinkParser(HTMLParser):\n",
    "\n",
    "    # This is a function that HTMLParser normally has\n",
    "    # but we are adding some functionality to it\n",
    "    def handle_starttag(self, tag, attrs):\n",
    "        # We are looking for the begining of a link. Links normally look\n",
    "        # like <a href=\"www.someurl.com\"></a>\n",
    "        if tag == 'a':\n",
    "            for (key, value) in attrs:\n",
    "                if key == 'href':\n",
    "                    # We are grabbing the new URL. We are also adding the\n",
    "                    # base URL to it. For example:\n",
    "                    # www.netinstructions.com is the base and\n",
    "                    # somepage.html is the new URL (a relative URL)\n",
    "                    #\n",
    "                    # We combine a relative URL with the base URL to create\n",
    "                    # an absolute URL like:\n",
    "                    # www.netinstructions.com/somepage.html\n",
    "                    newUrl = parse.urljoin(self.baseUrl, value)\n",
    "                    # And add it to our colection of links:\n",
    "                    self.links = self.links + [newUrl]\n",
    "\n",
    "    # This is a new function that we are creating to get links\n",
    "    # that our spider() function will call\n",
    "    def getLinks(self, url):\n",
    "        self.links = []\n",
    "        # Remember the base URL which will be important when creating\n",
    "        # absolute URLs\n",
    "        self.baseUrl = url\n",
    "        # Use the urlopen function from the standard Python 3 library\n",
    "        response = urlopen(url)\n",
    "        # Make sure that we are looking at HTML and not other things that\n",
    "        # are floating around on the internet (such as\n",
    "        # JavaScript files, CSS, or .PDFs for example)\n",
    "        if response.getheader('Content-Type')=='text/html':\n",
    "            htmlBytes = response.read()\n",
    "            # Note that feed() handles Strings well, but not bytes\n",
    "            # (A change from Python 2.x to Python 3.x)\n",
    "            htmlString = htmlBytes.decode(\"utf-8\")\n",
    "            self.feed(htmlString)\n",
    "            return htmlString, self.links\n",
    "        else:\n",
    "            return \"\",[]\n",
    "\n",
    "# And finally here is our spider. It takes in an URL, a word to find,\n",
    "# and the number of pages to search through before giving up\n",
    "def spider(url, word, maxPages):  \n",
    "    pagesToVisit = [url]\n",
    "    numberVisited = 0\n",
    "    foundWord = False\n",
    "    # The main loop. Create a LinkParser and get all the links on the page.\n",
    "    # Also search the page for the word or string\n",
    "    # In our getLinks function we return the web page\n",
    "    # (this is useful for searching for the word)\n",
    "    # and we return a set of links from that web page\n",
    "    # (this is useful for where to go next)\n",
    "    while numberVisited < maxPages and pagesToVisit != [] and not foundWord:\n",
    "        numberVisited = numberVisited +1\n",
    "        # Start from the beginning of our collection of pages to visit:\n",
    "        url = pagesToVisit[0]\n",
    "        pagesToVisit = pagesToVisit[1:]\n",
    "        try:\n",
    "            print(numberVisited, \"Visiting:\", url)\n",
    "            parser = LinkParser()\n",
    "            data, links = parser.getLinks(url)\n",
    "            print(data)\n",
    "            print(link)\n",
    "            if data.find(word)>-1:\n",
    "                foundWord = True\n",
    "                # Add the pages that we visited to the end of our collection\n",
    "                # of pages to visit:\n",
    "                pagesToVisit = pagesToVisit + links\n",
    "                print(\" **Success!**\")\n",
    "        except:\n",
    "            print(\" **Failed!**\")\n",
    "    if foundWord:\n",
    "        print(\"The word\", word, \"was found at\", url)\n",
    "    else:\n",
    "        print(\"Word never found\")\n",
    "    return pagesToVisit"
   ]
  },
  {
   "cell_type": "code",
   "execution_count": 81,
   "metadata": {},
   "outputs": [
    {
     "name": "stdout",
     "output_type": "stream",
     "text": [
      "1 Visiting: https://parapente.ffvl.fr/cfd/selectionner-les-vols?requete_filtre=eNrtlcFq20AQhl9F7Ck9lGgkS7bWpBCSBnLJJaFXs9hjZ2ErGWllCsEP1Ofoi3VGHk-o6tKQ5FR68upb7Y6-WfmXs7l98jadO1vap84W1qw9hpWZdxYyugh-8xjv0XVNzYzmo48BeVxac--8TEytabbYunpYSisvLhRH39SdoRIFlyC0wrXrQ-QbJtZkKeRDvcqaDgMu42LbYod1dLxSSh1m5OLR7Xy9MXN-8sODSpXFOrjIpbKUa9HudR_CsDuNz1y_7Otk7UNs8QMvh6qqaJIq8-hjlqYpY_49YB4xBsGgGBhngjPFGeNccK44ZzwRPFE8YVwILhQXjEvBpeKS8VTwVPGU8UzwTPGMcSW4UsyWIJaglsCWIJaglsCWIJaglsCWIJaglsCWIJaglsCWIJaglsCWIJaglsCWIJaglsCWQJb78Vv1_6j_2aPeH__cQ7IsavcVj8mEGxeSs4jfIh_vkEw7F3p8DhXad0_HfjLa0mO0XbuI42ADoIginqz6ZNeEk_H26WXxRnX-Em1yxwtC7W5U8G7-p_ZwtZ6gx75Nmj4ZeuXGXeImAJxDdv7crOpkt3Jrrm6ubxaXVw-3X24fPo8bRvUul9HvfPzx_S0fA9pn61q3pf7g-38RRGuFIR57oeNx5V-vf4-cN-z1ynd6vMtPOscauw\n",
      "\n",
      " **Failed!**\n",
      "Word never found\n"
     ]
    },
    {
     "data": {
      "text/plain": [
       "[]"
      ]
     },
     "execution_count": 81,
     "metadata": {},
     "output_type": "execute_result"
    }
   ],
   "source": [
    "spider(req_url_12122017, 'requete', 50)"
   ]
  },
  {
   "cell_type": "code",
   "execution_count": 89,
   "metadata": {},
   "outputs": [],
   "source": [
    "req_url_25122017 = \"https://parapente.ffvl.fr/cfd/selectionner-les-vols?requete_filtre=eNrtlcFq20AQhl9F7Ck9FDSSJVtrUghJA7nkktCrWeyxs7CVjLQygeAHynP0xTojj6dUcUhoeio9efWtdkffrPzL2dw-eZvOnS3tU2cLa9Yew8rMOwsZXQS_eYh36LqmZkbz0ceAPC6tuXNeJqbWNFtsXT0spZXn54qjb-rOUImCSxBa4dr1IfINE2uyFPKhXmVNhwGXcbFtscM6Ol4ppQ4zcvHgdr7emDk_-eFBpcpiHVzkUlnKtWj3ug9h2J3GZ65f9nWy9iG2-ImXQ1VVNEmVefQ5S9OUMf8eMI8Yg2BQDIwzwZnijHEuOFecM54IniieMC4EF4oLxqXgUnHJeCp4qnjKeCZ4pnjGuBJcKWZLEEtQS2BLEEtQS2BLEEtQS2BLEEtQS2BLEEtQS2BLEEtQS2BLEEtQS2BLEEtQS2BLIMv9-K36f9T_7FHvj3_uIVkWtfuOx2TCjQvJWcTHyMc7JNPOhR5_hQrtu6djPxlt6THarlzEcbABUEQRT1Z9smvCyXj78r54ozpvRJvc8Y5Qux0VvJ2_1h6u1hP02LdJ0ydDr9y4S9yEodl8xMWhWdXJbuXWXF5fXS8uLu9vvt3cfx03jOpdLKPf-fjj-SMfA9pn61q3pf7g3_8iiNYKQzz2Qsfjyr9fv4ycD-z1h-_0eJefPJUavA\""
   ]
  },
  {
   "cell_type": "code",
   "execution_count": 66,
   "metadata": {},
   "outputs": [
    {
     "name": "stdout",
     "output_type": "stream",
     "text": [
      "https://parapente.ffvl.fr/cfd/liste/2017/vol/20225421\n",
      "https://parapente.ffvl.fr/cfd/liste/2017/vol/20225512\n",
      "https://parapente.ffvl.fr/cfd/liste/2017/vol/20225513\n",
      "https://parapente.ffvl.fr/cfd/liste/2017/vol/20225595\n",
      "https://parapente.ffvl.fr/cfd/liste/2017/vol/20225596\n",
      "https://parapente.ffvl.fr/cfd/liste/2017/vol/20225620\n",
      "https://parapente.ffvl.fr/cfd/liste/2017/vol/20225975\n",
      "https://parapente.ffvl.fr/cfd/liste/2017/vol/20225985\n",
      "https://parapente.ffvl.fr/cfd/liste/2017/vol/20226033\n",
      "https://parapente.ffvl.fr/cfd/liste/2017/vol/20226038\n",
      "https://parapente.ffvl.fr/cfd/liste/2017/vol/20226039\n",
      "https://parapente.ffvl.fr/cfd/liste/2017/vol/20226093\n",
      "https://parapente.ffvl.fr/cfd/liste/2017/vol/20226112\n",
      "https://parapente.ffvl.fr/cfd/liste/2017/vol/20226212\n",
      "https://parapente.ffvl.fr/cfd/liste/2017/vol/20226231\n",
      "https://parapente.ffvl.fr/cfd/liste/2017/vol/20226236\n",
      "https://parapente.ffvl.fr/cfd/liste/2017/vol/20226245\n",
      "https://parapente.ffvl.fr/cfd/liste/2017/vol/20226255\n",
      "https://parapente.ffvl.fr/cfd/liste/2017/vol/20226256\n",
      "https://parapente.ffvl.fr/cfd/liste/2017/vol/20226263\n",
      "https://parapente.ffvl.fr/cfd/liste/2017/vol/20226296\n",
      "https://parapente.ffvl.fr/cfd/liste/2017/vol/20226301\n",
      "https://parapente.ffvl.fr/cfd/liste/2017/vol/20226315\n",
      "https://parapente.ffvl.fr/cfd/liste/2017/vol/20226316\n",
      "https://parapente.ffvl.fr/cfd/liste/2017/vol/20226317\n",
      "https://parapente.ffvl.fr/cfd/liste/2017/vol/20226436\n",
      "https://parapente.ffvl.fr/cfd/liste/2017/vol/20226438\n",
      "https://parapente.ffvl.fr/cfd/liste/2017/vol/20226604\n",
      "https://parapente.ffvl.fr/cfd/liste/2017/vol/20226607\n",
      "https://parapente.ffvl.fr/cfd/liste/2017/vol/20226608\n",
      "https://parapente.ffvl.fr/cfd/liste/2017/vol/20226671\n",
      "https://parapente.ffvl.fr/cfd/liste/2017/vol/20226772\n",
      "https://parapente.ffvl.fr/cfd/liste/2017/vol/20226866\n",
      "https://parapente.ffvl.fr/cfd/liste/2017/vol/20226949\n",
      "https://parapente.ffvl.fr/cfd/liste/2017/vol/20227243\n",
      "https://parapente.ffvl.fr/cfd/liste/2017/vol/20227244\n",
      "https://parapente.ffvl.fr/cfd/liste/2017/vol/20227247\n",
      "https://parapente.ffvl.fr/cfd/liste/2017/vol/20227248\n",
      "https://parapente.ffvl.fr/cfd/liste/2017/vol/20227250\n",
      "https://parapente.ffvl.fr/cfd/liste/2017/vol/20227304\n",
      "https://parapente.ffvl.fr/cfd/liste/2017/vol/20227349\n",
      "https://parapente.ffvl.fr/cfd/liste/2017/vol/20227350\n",
      "https://parapente.ffvl.fr/cfd/liste/2017/vol/20227354\n",
      "https://parapente.ffvl.fr/cfd/liste/2017/vol/20227356\n",
      "https://parapente.ffvl.fr/cfd/liste/2017/vol/20227358\n",
      "https://parapente.ffvl.fr/cfd/liste/2017/vol/20227359\n",
      "https://parapente.ffvl.fr/cfd/liste/2017/vol/20227586\n",
      "https://parapente.ffvl.fr/cfd/liste/2017/vol/20227588\n",
      "https://parapente.ffvl.fr/cfd/liste/2017/vol/20227589\n",
      "https://parapente.ffvl.fr/cfd/liste/2017/vol/20227620\n",
      "https://parapente.ffvl.fr/cfd/liste/2017/vol/20227644\n",
      "https://parapente.ffvl.fr/cfd/liste/2017/vol/20227702\n",
      "https://parapente.ffvl.fr/cfd/liste/2017/vol/20227830\n",
      "https://parapente.ffvl.fr/cfd/liste/2017/vol/20227838\n",
      "https://parapente.ffvl.fr/cfd/liste/2017/vol/20227839\n",
      "https://parapente.ffvl.fr/cfd/liste/2017/vol/20227930\n",
      "https://parapente.ffvl.fr/cfd/liste/2017/vol/20227933\n",
      "https://parapente.ffvl.fr/cfd/liste/2017/vol/20227935\n",
      "https://parapente.ffvl.fr/cfd/liste/2017/vol/20228118\n",
      "https://parapente.ffvl.fr/cfd/liste/2017/vol/20228133\n",
      "https://parapente.ffvl.fr/cfd/liste/2017/vol/20228168\n",
      "https://parapente.ffvl.fr/cfd/liste/2017/vol/20228171\n",
      "https://parapente.ffvl.fr/cfd/liste/2017/vol/20228172\n",
      "https://parapente.ffvl.fr/cfd/liste/2017/vol/20228173\n",
      "https://parapente.ffvl.fr/cfd/liste/2017/vol/20228174\n",
      "https://parapente.ffvl.fr/cfd/liste/2017/vol/20228313\n",
      "https://parapente.ffvl.fr/cfd/liste/2017/vol/20228397\n",
      "https://parapente.ffvl.fr/cfd/liste/2017/vol/20228513\n",
      "https://parapente.ffvl.fr/cfd/liste/2017/vol/20228526\n",
      "https://parapente.ffvl.fr/cfd/liste/2017/vol/20228611\n",
      "https://parapente.ffvl.fr/cfd/liste/2017/vol/20228644\n",
      "https://parapente.ffvl.fr/cfd/liste/2017/vol/20228645\n",
      "https://parapente.ffvl.fr/cfd/liste/2017/vol/20228985\n",
      "https://parapente.ffvl.fr/cfd/liste/2017/vol/20229169\n",
      "https://parapente.ffvl.fr/cfd/liste/2017/vol/20229174\n",
      "https://parapente.ffvl.fr/cfd/liste/2017/vol/20229178\n",
      "https://parapente.ffvl.fr/cfd/liste/2017/vol/20229248\n",
      "https://parapente.ffvl.fr/cfd/liste/2017/vol/20229300\n",
      "https://parapente.ffvl.fr/cfd/liste/2017/vol/20229313\n",
      "https://parapente.ffvl.fr/cfd/liste/2017/vol/20229317\n",
      "https://parapente.ffvl.fr/cfd/liste/2017/vol/20229340\n",
      "https://parapente.ffvl.fr/cfd/liste/2017/vol/20229341\n",
      "https://parapente.ffvl.fr/cfd/liste/2017/vol/20229342\n",
      "https://parapente.ffvl.fr/cfd/liste/2017/vol/20229362\n",
      "https://parapente.ffvl.fr/cfd/liste/2017/vol/20229364\n",
      "https://parapente.ffvl.fr/cfd/liste/2017/vol/20229377\n",
      "https://parapente.ffvl.fr/cfd/liste/2017/vol/20229378\n",
      "https://parapente.ffvl.fr/cfd/liste/2017/vol/20229386\n",
      "https://parapente.ffvl.fr/cfd/liste/2017/vol/20229396\n",
      "https://parapente.ffvl.fr/cfd/liste/2017/vol/20229404\n",
      "https://parapente.ffvl.fr/cfd/liste/2017/vol/20229433\n",
      "https://parapente.ffvl.fr/cfd/liste/2017/vol/20229489\n",
      "https://parapente.ffvl.fr/cfd/liste/2017/vol/20229494\n",
      "https://parapente.ffvl.fr/cfd/liste/2017/vol/20229508\n",
      "https://parapente.ffvl.fr/cfd/liste/2017/vol/20229509\n",
      "https://parapente.ffvl.fr/cfd/liste/2017/vol/20229517\n",
      "https://parapente.ffvl.fr/cfd/liste/2017/vol/20229522\n",
      "https://parapente.ffvl.fr/cfd/liste/2017/vol/20229622\n",
      "https://parapente.ffvl.fr/cfd/liste/2017/vol/20229634\n",
      "https://parapente.ffvl.fr/cfd/liste/2017/vol/20229636\n",
      "Downloading file:2017-09-03-igcfile-191646-118546.igc\n",
      "2017-09-03-igcfile-191646-118546.igc downloaded!\n",
      "\n",
      "Downloading file:2017-09-03-igcfile-13347-118547.igc\n",
      "2017-09-03-igcfile-13347-118547.igc downloaded!\n",
      "\n",
      "Downloading file:2017-09-04-igcfile-326704-118623.igc\n",
      "2017-09-04-igcfile-326704-118623.igc downloaded!\n",
      "\n",
      "Downloading file:2017-09-04-igcfile-11019-118624.igc\n",
      "2017-09-04-igcfile-11019-118624.igc downloaded!\n",
      "\n",
      "Downloading file:2017-09-04-igcfile-8787-118642.igc\n",
      "2017-09-04-igcfile-8787-118642.igc downloaded!\n",
      "\n",
      "Downloading file:2017-09-08-igcfile-149193-118905.igc\n",
      "2017-09-08-igcfile-149193-118905.igc downloaded!\n",
      "\n",
      "Downloading file:2017-09-08-igcfile-268779-118912.igc\n",
      "2017-09-08-igcfile-268779-118912.igc downloaded!\n",
      "\n",
      "Downloading file:2017-09-04-igcfile-338708-118958.igc\n",
      "2017-09-04-igcfile-338708-118958.igc downloaded!\n",
      "\n",
      "Downloading file:2017-09-10-igcfile-43264-118961.igc\n",
      "2017-09-10-igcfile-43264-118961.igc downloaded!\n",
      "\n",
      "Downloading file:2017-09-08-igcfile-202139-118962.igc\n",
      "2017-09-08-igcfile-202139-118962.igc downloaded!\n",
      "\n",
      "Downloading file:2017-09-10-igcfile-332518-119012.igc\n",
      "2017-09-10-igcfile-332518-119012.igc downloaded!\n",
      "\n",
      "Downloading file:2017-09-10-igcfile-202099-119028.igc\n",
      "2017-09-10-igcfile-202099-119028.igc downloaded!\n",
      "\n",
      "Downloading file:2017-09-16-igcfile-296974-119133.igc\n",
      "2017-09-16-igcfile-296974-119133.igc downloaded!\n",
      "\n",
      "Downloading file:2017-09-16-igcfile-177446-119151.igc\n",
      "2017-09-16-igcfile-177446-119151.igc downloaded!\n",
      "\n",
      "Downloading file:2017-09-16-igcfile-257252-119154.igc\n",
      "2017-09-16-igcfile-257252-119154.igc downloaded!\n",
      "\n",
      "Downloading file:2017-09-16-igcfile-10545-119163.igc\n",
      "2017-09-16-igcfile-10545-119163.igc downloaded!\n",
      "\n",
      "Downloading file:2017-09-16-igcfile-338897-119172.igc\n",
      "2017-09-16-igcfile-338897-119172.igc downloaded!\n",
      "\n",
      "Downloading file:2017-09-17-igcfile-149879-119173.igc\n",
      "2017-09-17-igcfile-149879-119173.igc downloaded!\n",
      "\n",
      "Downloading file:2017-09-16-igcfile-141449-119181.igc\n",
      "2017-09-16-igcfile-141449-119181.igc downloaded!\n",
      "\n",
      "Downloading file:2017-09-18-igcfile-22910-119200.igc\n",
      "2017-09-18-igcfile-22910-119200.igc downloaded!\n",
      "\n",
      "Downloading file:2017-09-16-igcfile-272793-119207.igc\n",
      "2017-09-16-igcfile-272793-119207.igc downloaded!\n",
      "\n",
      "Downloading file:2017-09-19-igcfile-9854-119214.igc\n",
      "2017-09-19-igcfile-9854-119214.igc downloaded!\n",
      "\n",
      "Downloading file:2017-09-19-igcfile-213761-119213.igc\n",
      "2017-09-19-igcfile-213761-119213.igc downloaded!\n",
      "\n",
      "Downloading file:2017-09-15-igcfile-145180-119215.igc\n",
      "2017-09-15-igcfile-145180-119215.igc downloaded!\n",
      "\n",
      "Downloading file:2017-09-20-igcfile-293856-119324.igc\n",
      "2017-09-20-igcfile-293856-119324.igc downloaded!\n",
      "\n",
      "Downloading file:2017-09-21-igcfile-8430-119326.igc\n",
      "2017-09-21-igcfile-8430-119326.igc downloaded!\n",
      "\n",
      "Downloading file:2017-09-23-igcfile-213279-119461.igc\n",
      "2017-09-23-igcfile-213279-119461.igc downloaded!\n",
      "\n",
      "Downloading file:2017-09-23-igcfile-59342-119463.igc\n"
     ]
    },
    {
     "name": "stdout",
     "output_type": "stream",
     "text": [
      "2017-09-23-igcfile-59342-119463.igc downloaded!\n",
      "\n",
      "Downloading file:2017-09-23-igcfile-115447-119464.igc\n",
      "2017-09-23-igcfile-115447-119464.igc downloaded!\n",
      "\n",
      "Downloading file:2017-09-23-igcfile-173321-119519.igc\n",
      "2017-09-23-igcfile-173321-119519.igc downloaded!\n",
      "\n",
      "Downloading file:2017-09-24-igcfile-147437-119625.igc\n",
      "2017-09-24-igcfile-147437-119625.igc downloaded!\n",
      "\n",
      "Downloading file:2017-09-24-igcfile-18012-119698.igc\n",
      "2017-09-24-igcfile-18012-119698.igc downloaded!\n",
      "\n",
      "Downloading file:2017-09-26-igcfile-127283-119756.igc\n",
      "2017-09-26-igcfile-127283-119756.igc downloaded!\n",
      "\n",
      "Downloading file:2017-09-29-igcfile-221191-120006.igc\n",
      "2017-09-29-igcfile-221191-120006.igc downloaded!\n",
      "\n",
      "Downloading file:2017-09-29-igcfile-289322-120007.igc\n",
      "2017-09-29-igcfile-289322-120007.igc downloaded!\n",
      "\n",
      "Downloading file:2017-09-29-igcfile-14751-120010.igc\n",
      "2017-09-29-igcfile-14751-120010.igc downloaded!\n",
      "\n",
      "Downloading file:2017-09-29-igcfile-16038-120011.igc\n",
      "2017-09-29-igcfile-16038-120011.igc downloaded!\n",
      "\n",
      "Downloading file:2017-09-29-igcfile-95374-120013.igc\n",
      "2017-09-29-igcfile-95374-120013.igc downloaded!\n",
      "\n",
      "Downloading file:2017-09-29-igcfile-8430-120057.igc\n",
      "2017-09-29-igcfile-8430-120057.igc downloaded!\n",
      "\n",
      "Downloading file:2017-09-20-igcfile-208879-120100.igc\n",
      "2017-09-20-igcfile-208879-120100.igc downloaded!\n",
      "\n",
      "Downloading file:2017-09-20-igcfile-3375-120101.igc\n",
      "2017-09-20-igcfile-3375-120101.igc downloaded!\n",
      "\n",
      "Downloading file:2017-09-23-igcfile-34398-120104.igc\n",
      "2017-09-23-igcfile-34398-120104.igc downloaded!\n",
      "\n",
      "Downloading file:2017-09-28-igcfile-229043-120106.igc\n",
      "2017-09-28-igcfile-229043-120106.igc downloaded!\n",
      "\n",
      "Downloading file:2017-09-29-igcfile-229043-120108.igc\n",
      "2017-09-29-igcfile-229043-120108.igc downloaded!\n",
      "\n",
      "Downloading file:2017-09-29-igcfile-228874-120110.igc\n",
      "2017-09-29-igcfile-228874-120110.igc downloaded!\n",
      "\n",
      "Downloading file:2017-10-04-igcfile-235863-120333.igc\n",
      "2017-10-04-igcfile-235863-120333.igc downloaded!\n",
      "\n",
      "Downloading file:2017-10-04-igcfile-10891-120337.igc\n",
      "2017-10-04-igcfile-10891-120337.igc downloaded!\n",
      "\n",
      "Downloading file:2017-10-04-igcfile-194965-120338.igc\n",
      "2017-10-04-igcfile-194965-120338.igc downloaded!\n",
      "\n",
      "Downloading file:2017-10-05-igcfile-197351-120365.igc\n",
      "2017-10-05-igcfile-197351-120365.igc downloaded!\n",
      "\n",
      "Downloading file:2017-10-05-igcfile-62927-120386.igc\n",
      "2017-10-05-igcfile-62927-120386.igc downloaded!\n",
      "\n",
      "Downloading file:2017-10-06-igcfile-5706-120810.igc\n",
      "2017-10-06-igcfile-5706-120810.igc downloaded!\n",
      "\n",
      "Downloading file:2017-10-09-igcfile-76781-123316.igc\n",
      "2017-10-09-igcfile-76781-123316.igc downloaded!\n",
      "\n",
      "Downloading file:2017-10-09-igcfile-59452-123323.igc\n",
      "2017-10-09-igcfile-59452-123323.igc downloaded!\n",
      "\n",
      "Downloading file:2017-09-27-igcfile-161351-123363.igc\n",
      "2017-09-27-igcfile-161351-123363.igc downloaded!\n",
      "\n",
      "Downloading file:2017-09-28-igcfile-96708-124459.igc\n",
      "2017-09-28-igcfile-96708-124459.igc downloaded!\n",
      "\n",
      "Downloading file:2017-10-10-igcfile-223915-124462.igc\n",
      "2017-10-10-igcfile-223915-124462.igc downloaded!\n",
      "\n",
      "Downloading file:2017-10-10-igcfile-12883-124495.igc\n",
      "2017-10-10-igcfile-12883-124495.igc downloaded!\n",
      "\n",
      "Downloading file:2017-10-10-igcfile-313671-128323.igc\n",
      "2017-10-10-igcfile-313671-128323.igc downloaded!\n",
      "\n",
      "Downloading file:2017-10-13-igcfile-119780-128791.igc\n",
      "2017-10-13-igcfile-119780-128791.igc downloaded!\n",
      "\n",
      "Downloading file:2017-10-14-igcfile-1432-129169.igc\n",
      "2017-10-14-igcfile-1432-129169.igc downloaded!\n",
      "\n",
      "Downloading file:2017-10-13-igcfile-253750-129233.igc\n",
      "2017-10-13-igcfile-253750-129233.igc downloaded!\n",
      "\n",
      "Downloading file:2017-10-14-igcfile-8865-129232.igc\n",
      "2017-10-14-igcfile-8865-129232.igc downloaded!\n",
      "\n",
      "Downloading file:2017-10-14-igcfile-89835-129235.igc\n",
      "2017-10-14-igcfile-89835-129235.igc downloaded!\n",
      "\n",
      "Downloading file:2017-10-14-igcfile-195928-129234.igc\n",
      "2017-10-14-igcfile-195928-129234.igc downloaded!\n",
      "\n",
      "Downloading file:2017-10-15-igcfile-6813-130451.igc\n",
      "2017-10-15-igcfile-6813-130451.igc downloaded!\n",
      "\n",
      "Downloading file:2017-10-16-igcfile-142689-131243.igc\n",
      "2017-10-16-igcfile-142689-131243.igc downloaded!\n",
      "\n",
      "Downloading file:2017-10-20-igcfile-21195-133919.igc\n",
      "2017-10-20-igcfile-21195-133919.igc downloaded!\n",
      "\n",
      "Downloading file:2017-10-23-igcfile-1994-134211.igc\n",
      "2017-10-23-igcfile-1994-134211.igc downloaded!\n",
      "\n",
      "Downloading file:2017-10-27-igcfile-23273-135436.igc\n",
      "2017-10-27-igcfile-23273-135436.igc downloaded!\n",
      "\n",
      "Downloading file:2017-10-29-igcfile-1471-135970.igc\n",
      "2017-10-29-igcfile-1471-135970.igc downloaded!\n",
      "\n",
      "Downloading file:2017-10-29-igcfile-64071-135971.igc\n",
      "2017-10-29-igcfile-64071-135971.igc downloaded!\n",
      "\n",
      "Downloading file:2017-11-01-igcfile-171196-138535.igc\n",
      "2017-11-01-igcfile-171196-138535.igc downloaded!\n",
      "\n",
      "Downloading file:2017-11-21-igcfile-143169-138847.igc\n",
      "2017-11-21-igcfile-143169-138847.igc downloaded!\n",
      "\n",
      "Downloading file:2017-11-23-igcfile-239011-138850.igc\n",
      "2017-11-23-igcfile-239011-138850.igc downloaded!\n",
      "\n",
      "Downloading file:2017-11-24-igcfile-204891-138883.igc\n",
      "2017-11-24-igcfile-204891-138883.igc downloaded!\n",
      "\n",
      "Downloading file:2017-11-19-igcfile-5540-139026.igc\n",
      "2017-11-19-igcfile-5540-139026.igc downloaded!\n",
      "\n",
      "Downloading file:2017-11-29-igcfile-78860-139068.igc\n",
      "2017-11-29-igcfile-78860-139068.igc downloaded!\n",
      "\n",
      "Downloading file:2017-11-30-igcfile-95927-139080.igc\n",
      "2017-11-30-igcfile-95927-139080.igc downloaded!\n",
      "\n",
      "Downloading file:2017-11-28-igcfile-252842-139083.igc\n",
      "2017-11-28-igcfile-252842-139083.igc downloaded!\n",
      "\n",
      "Downloading file:2017-12-01-igcfile-276534-139104.igc\n",
      "2017-12-01-igcfile-276534-139104.igc downloaded!\n",
      "\n",
      "Downloading file:2017-11-29-igcfile-95927-139105.igc\n",
      "2017-11-29-igcfile-95927-139105.igc downloaded!\n",
      "\n",
      "Downloading file:2017-12-02-igcfile-50178-139108.igc\n",
      "2017-12-02-igcfile-50178-139108.igc downloaded!\n",
      "\n",
      "Downloading file:2017-12-02-igcfile-6672-139128.igc\n",
      "2017-12-02-igcfile-6672-139128.igc downloaded!\n",
      "\n",
      "Downloading file:2017-12-03-igcfile-213761-139167.igc\n",
      "2017-12-03-igcfile-213761-139167.igc downloaded!\n",
      "\n",
      "Downloading file:2017-12-03-igcfile-308985-139166.igc\n",
      "2017-12-03-igcfile-308985-139166.igc downloaded!\n",
      "\n",
      "Downloading file:2017-11-27-igcfile-344779-139187.igc\n",
      "2017-11-27-igcfile-344779-139187.igc downloaded!\n",
      "\n",
      "Downloading file:2017-11-27-igcfile-319175-139198.igc\n",
      "2017-11-27-igcfile-319175-139198.igc downloaded!\n",
      "\n",
      "Downloading file:2017-10-17-igcfile-301098-139219.igc\n",
      "2017-10-17-igcfile-301098-139219.igc downloaded!\n",
      "\n",
      "Downloading file:2017-12-03-igcfile-235223-139242.igc\n",
      "2017-12-03-igcfile-235223-139242.igc downloaded!\n",
      "\n",
      "Downloading file:2017-12-13-igcfile-186055-139310.igc\n",
      "2017-12-13-igcfile-186055-139310.igc downloaded!\n",
      "\n",
      "Downloading file:2017-12-17-igcfile-145099-139335.igc\n",
      "2017-12-17-igcfile-145099-139335.igc downloaded!\n",
      "\n",
      "Downloading file:2017-12-16-igcfile-331544-139336.igc\n",
      "2017-12-16-igcfile-331544-139336.igc downloaded!\n",
      "\n",
      "Downloading file:2017-12-17-igcfile-314592-139364.igc\n",
      "2017-12-17-igcfile-314592-139364.igc downloaded!\n",
      "\n",
      "Downloading file:2017-12-17-igcfile-66346-139372.igc\n",
      "2017-12-17-igcfile-66346-139372.igc downloaded!\n",
      "\n",
      "Downloading file:2017-12-21-igcfile-270367-139471.igc\n",
      "2017-12-21-igcfile-270367-139471.igc downloaded!\n",
      "\n",
      "Downloading file:2017-12-28-igcfile-142999-139491.igc\n",
      "2017-12-28-igcfile-142999-139491.igc downloaded!\n",
      "\n",
      "Downloading file:2017-12-28-igcfile-17566-139493.igc\n",
      "2017-12-28-igcfile-17566-139493.igc downloaded!\n",
      "\n"
     ]
    }
   ],
   "source": [
    "download_all_igc(req_url_12122017, output_dir = 'parapente_traces_dataset/')"
   ]
  },
  {
   "cell_type": "code",
   "execution_count": null,
   "metadata": {},
   "outputs": [],
   "source": [
    "ls parapente_traces_dataset/"
   ]
  },
  {
   "cell_type": "code",
   "execution_count": null,
   "metadata": {},
   "outputs": [],
   "source": []
  },
  {
   "cell_type": "code",
   "execution_count": null,
   "metadata": {},
   "outputs": [],
   "source": []
  }
 ],
 "metadata": {
  "kernelspec": {
   "display_name": "Python 3",
   "language": "python",
   "name": "python3"
  },
  "language_info": {
   "codemirror_mode": {
    "name": "ipython",
    "version": 3
   },
   "file_extension": ".py",
   "mimetype": "text/x-python",
   "name": "python",
   "nbconvert_exporter": "python",
   "pygments_lexer": "ipython3",
   "version": "3.6.4"
  }
 },
 "nbformat": 4,
 "nbformat_minor": 2
}
